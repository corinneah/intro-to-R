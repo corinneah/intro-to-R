{
  "nbformat": 4,
  "nbformat_minor": 0,
  "metadata": {
    "kernelspec": {
      "display_name": "R (system-wide)",
      "language": "r",
      "metadata": {
        "cocalc": {
          "description": "R statistical programming language",
          "priority": 10,
          "url": "https://www.r-project.org/"
        }
      },
      "name": "ir",
      "resource_dir": "/ext/jupyter/kernels/ir"
    },
    "language_info": {
      "codemirror_mode": "r",
      "file_extension": ".r",
      "mimetype": "text/x-r-source",
      "name": "R",
      "pygments_lexer": "r",
      "version": "4.0.5"
    },
    "colab": {
      "provenance": [],
      "private_outputs": true,
      "include_colab_link": true
    }
  },
  "cells": [
    {
      "cell_type": "markdown",
      "metadata": {
        "id": "view-in-github",
        "colab_type": "text"
      },
      "source": [
        "<a href=\"https://colab.research.google.com/github/corinneah/intro-to-R/blob/main/Tutorial_1_Intro_R.ipynb\" target=\"_parent\"><img src=\"https://colab.research.google.com/assets/colab-badge.svg\" alt=\"Open In Colab\"/></a>"
      ]
    },
    {
      "cell_type": "markdown",
      "source": [
        "1. The R Environment "
      ],
      "metadata": {
        "id": "JONGSSPTAz_V"
      }
    },
    {
      "cell_type": "code",
      "source": [
        "x <- 12"
      ],
      "metadata": {
        "id": "zC2zHWKwAaDv"
      },
      "execution_count": null,
      "outputs": []
    },
    {
      "cell_type": "code",
      "source": [
        "# create vector of integers from 0 to 9\n",
        "some_numbers <- c(0,1,2,3,4,5,6,7,8,9)\n",
        "\n",
        "# alternatively \n",
        "some_numbers <- c(0:9)"
      ],
      "metadata": {
        "id": "LOLNF7CDAndp"
      },
      "execution_count": null,
      "outputs": []
    },
    {
      "cell_type": "code",
      "source": [
        "some_numbers"
      ],
      "metadata": {
        "id": "eD948Wm2ApiP"
      },
      "execution_count": null,
      "outputs": []
    },
    {
      "cell_type": "code",
      "source": [
        "##  [1] 0 1 2 3 4 5 6 7 8 9"
      ],
      "metadata": {
        "id": "7jZmCFwXAsvw"
      },
      "execution_count": null,
      "outputs": []
    },
    {
      "cell_type": "code",
      "source": [
        "mean(some_numbers) # [1] 4.5"
      ],
      "metadata": {
        "id": "yq4qt6hDAuPt"
      },
      "execution_count": null,
      "outputs": []
    },
    {
      "cell_type": "code",
      "source": [
        "install.packages('tidyverse')"
      ],
      "metadata": {
        "id": "1Yh0ilnODHRC"
      },
      "execution_count": null,
      "outputs": []
    },
    {
      "cell_type": "markdown",
      "source": [
        "2. Getting Started with Data"
      ],
      "metadata": {
        "id": "DrFeY26rDLrf"
      }
    },
    {
      "cell_type": "code",
      "source": [
        "library(tidyverse)"
      ],
      "metadata": {
        "id": "3J-f0ZJ5A8fN"
      },
      "execution_count": null,
      "outputs": []
    },
    {
      "cell_type": "code",
      "source": [
        "## ✔ ggplot2 3.1.1       ✔ purrr   0.2.5  \n",
        "## ✔ tibble  2.1.1       ✔ dplyr   0.8.0.1\n",
        "## ✔ tidyr   0.8.1       ✔ stringr 1.4.0  \n",
        "## ✔ readr   1.1.1       ✔ forcats 0.3.0"
      ],
      "metadata": {
        "id": "QT0kX7uTA_pG"
      },
      "execution_count": null,
      "outputs": []
    },
    {
      "cell_type": "code",
      "source": [
        "library(tidyverse)"
      ],
      "metadata": {
        "id": "YUqhZFaCBE_O"
      },
      "execution_count": null,
      "outputs": []
    },
    {
      "cell_type": "code",
      "source": [
        "paygap <- read.csv('/UK Gender Pay Gap Data - 2019 to 2020.csv', header = TRUE)"
      ],
      "metadata": {
        "id": "L3iQQFquBiFG"
      },
      "execution_count": null,
      "outputs": []
    },
    {
      "cell_type": "code",
      "source": [
        "head(paygap, n = 5)"
      ],
      "metadata": {
        "id": "GNNKuVDBCVK-"
      },
      "execution_count": null,
      "outputs": []
    },
    {
      "cell_type": "code",
      "source": [
        "colnames(paygap)"
      ],
      "metadata": {
        "id": "h2b0fj4gCV7r"
      },
      "execution_count": null,
      "outputs": []
    },
    {
      "cell_type": "code",
      "source": [
        "dim(paygap)"
      ],
      "metadata": {
        "id": "7eUBboz3CYE6"
      },
      "execution_count": null,
      "outputs": []
    },
    {
      "cell_type": "code",
      "source": [
        "class(paygap)"
      ],
      "metadata": {
        "id": "pe4N-BY3CcsU"
      },
      "execution_count": null,
      "outputs": []
    },
    {
      "cell_type": "code",
      "source": [
        "class(paygap$DiffMeanHourlyPercent)"
      ],
      "metadata": {
        "id": "qrw_BSCPCdTW"
      },
      "execution_count": null,
      "outputs": []
    },
    {
      "cell_type": "markdown",
      "source": [
        "3. Wrangling and Visualizing Data"
      ],
      "metadata": {
        "id": "FloBtggUEl_F"
      }
    },
    {
      "cell_type": "code",
      "source": [
        "# extract element in 1st row and 3th column\n",
        "paygap[1,3]"
      ],
      "metadata": {
        "id": "r-TiY29REqZX"
      },
      "execution_count": null,
      "outputs": []
    },
    {
      "cell_type": "code",
      "source": [
        "# extract rows 5-7 from columns 1-3\n",
        "paygap[5:7,1:3]"
      ],
      "metadata": {
        "id": "5l2OhF0ECfj8"
      },
      "execution_count": null,
      "outputs": []
    },
    {
      "cell_type": "code",
      "source": [
        "# extract column 'bodytemp' and assign to new object 'temperatures'\n",
        "Employment_address <- paygap$Address"
      ],
      "metadata": {
        "id": "aLsJM7X6E_XP"
      },
      "execution_count": null,
      "outputs": []
    },
    {
      "cell_type": "code",
      "source": [
        "# select columns 'gender' and 'heartrate' and assign to new object 'heartrates'\n",
        "Employer_info <- select(paygap, EmployerName, EmployerId)"
      ],
      "metadata": {
        "id": "YFQBFI9VFAk7"
      },
      "execution_count": null,
      "outputs": []
    },
    {
      "cell_type": "code",
      "source": [
        "## append variable names with their respective units\n",
        "# rename 'bodytemp' to 'bodytemp_degF'\n",
        "cardiacdata <- rename(cardiacdata, bodytemp_degF = bodytemp)\n",
        "\n",
        "# rename 'heartrate' to 'heartrate_bpm'\n",
        "cardiacdata <- rename(cardiacdata, heartrate_bpm = heartrate)"
      ],
      "metadata": {
        "id": "8Bxy0NNSFDrb"
      },
      "execution_count": null,
      "outputs": []
    },
    {
      "cell_type": "code",
      "source": [
        "head(paygap)"
      ],
      "metadata": {
        "id": "ZgFfp-T-FIpp"
      },
      "execution_count": null,
      "outputs": []
    },
    {
      "cell_type": "code",
      "source": [
        "# add new column with body temperature in degrees celsius\n",
        "cardiacdata <- mutate(cardiacdata, bodytemp_degC = (bodytemp_degF - 32)*(5/9))"
      ],
      "metadata": {
        "id": "ut7_jWP9FJTO"
      },
      "execution_count": null,
      "outputs": []
    },
    {
      "cell_type": "code",
      "source": [
        "# change values in gender column to read \"Female\" and \"Male\" instead of 1 and 2\n",
        "cardiacdata <- mutate(cardiacdata, gender = ifelse(gender == 1, 'Female', \n",
        "                                            ifelse(gender == 2, 'Male', NA)))"
      ],
      "metadata": {
        "id": "UiEArZ7eFMKu"
      },
      "execution_count": null,
      "outputs": []
    },
    {
      "cell_type": "code",
      "source": [
        "head(paygap)"
      ],
      "metadata": {
        "id": "q4a1jxoYFRO7"
      },
      "execution_count": null,
      "outputs": []
    },
    {
      "cell_type": "code",
      "source": [
        "# filter for data from female subjects only\n",
        "paygap_on_time <- filter(paygap, SubmittedAfterTheDeadline == 'False')"
      ],
      "metadata": {
        "id": "cIYQBkepFTGW"
      },
      "execution_count": null,
      "outputs": []
    },
    {
      "cell_type": "code",
      "source": [
        "paygap_byEmployerSize <- paygap %>%\n",
        "  group_by(EmployerSize) %>%                                  # group by 'EmployerSize'\n",
        "  summarize(FemaleBonusPercent = mean(FemaleBonusPercent),    # aggregate using means\n",
        "            MaleBonusPercent = mean(MaleBonusPercent), \n",
        "            DiffMeanBonusPercent = mean(DiffMeanBonusPercent))"
      ],
      "metadata": {
        "id": "yMAaSvGWFYXr"
      },
      "execution_count": null,
      "outputs": []
    },
    {
      "cell_type": "code",
      "source": [
        "paygap_byEmployerSize"
      ],
      "metadata": {
        "id": "h1l3FmaZFZ8n"
      },
      "execution_count": null,
      "outputs": []
    },
    {
      "cell_type": "code",
      "source": [
        "cardiacdata <- cardiacdata %>%\n",
        "  filter(gender == 'Female') %>%\n",
        "  select(-gender) %>%\n",
        "  mutate(bodytemp_Kelvin = bodytemp_degC + 273)"
      ],
      "metadata": {
        "id": "chmcCy2gFbZ4"
      },
      "execution_count": null,
      "outputs": []
    },
    {
      "cell_type": "code",
      "source": [
        "paygap_byEmployerSize "
      ],
      "metadata": {
        "id": "Q7sx90CIFdfQ"
      },
      "execution_count": null,
      "outputs": []
    },
    {
      "cell_type": "code",
      "source": [
        "some_numbers <- c(4,5,6,7,NA,8)\n",
        "\n",
        "mean(some_numbers)"
      ],
      "metadata": {
        "id": "WZzJhyAEFf0V"
      },
      "execution_count": null,
      "outputs": []
    },
    {
      "cell_type": "code",
      "source": [
        "mean(some_numbers, na.rm = TRUE)\n"
      ],
      "metadata": {
        "id": "ASc8pid3FijW"
      },
      "execution_count": null,
      "outputs": []
    },
    {
      "cell_type": "code",
      "source": [
        "ggplot(data = paygap, mapping = aes(x = MaleBonusPercent)) + \n",
        "  geom_histogram(bins = 20)"
      ],
      "metadata": {
        "id": "Te05Ad5eFkJQ"
      },
      "execution_count": null,
      "outputs": []
    },
    {
      "cell_type": "code",
      "source": [
        "ggplot(data = paygap, mapping = aes(x = MaleBonusPercent)) + \n",
        "  geom_histogram(bins = 20, aes(y = ..density..), fill = 'lightblue') +\n",
        "  xlab('Male bonus (percentage)') +\n",
        "  ggtitle('distribution of male bonuses') +\n",
        "  theme_light()"
      ],
      "metadata": {
        "id": "6zPZLNKEFoh1"
      },
      "execution_count": null,
      "outputs": []
    },
    {
      "cell_type": "code",
      "source": [
        "ggplot(data = paygap, mapping = aes(x = MaleBonusPercent)) + \n",
        "  geom_histogram(bins = 20, aes(y = ..density..))"
      ],
      "metadata": {
        "id": "U4lxQKQyFq-W"
      },
      "execution_count": null,
      "outputs": []
    },
    {
      "cell_type": "code",
      "source": [
        "ggplot(data = paygap, mapping = aes(x = FemaleBonusPercent, y = MaleBonusPercent)) + \n",
        "  geom_point() +\n",
        "  theme_dark()"
      ],
      "metadata": {
        "id": "yM4OGHEMFtRr"
      },
      "execution_count": null,
      "outputs": []
    },
    {
      "cell_type": "code",
      "source": [
        "ggplot(data = paygap, mapping = aes(x = FemaleBonusPercent, y = MaleBonusPercent, color = EmployerSize )) + \n",
        "  geom_point() +\n",
        "  theme_light()"
      ],
      "metadata": {
        "id": "DEXombEQFty5"
      },
      "execution_count": null,
      "outputs": []
    },
    {
      "cell_type": "code",
      "source": [
        "ggplot(data = paygap, mapping = aes(x = EmployerSize, y = MaleBonusPercent)) +\n",
        "  geom_boxplot() +\n",
        "  xlab('Employer Size') +\n",
        "  ylab('Male bonus (percentage)') +\n",
        "  theme_light()"
      ],
      "metadata": {
        "id": "_V_PAxcsFxc8"
      },
      "execution_count": null,
      "outputs": []
    }
  ]
}